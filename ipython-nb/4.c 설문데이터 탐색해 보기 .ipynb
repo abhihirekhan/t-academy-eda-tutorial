{
 "cells": [
  {
   "cell_type": "markdown",
   "metadata": {},
   "source": [
    "### 설문 데이터를 탐색해 보자 \n",
    "* 각 Feature의 분포를 탐색해보고 \n",
    "* Clustering된 Feature에 대하여 생각해 보기"
   ]
  },
  {
   "cell_type": "code",
   "execution_count": 9,
   "metadata": {},
   "outputs": [],
   "source": [
    "import pandas as pd\n",
    "import numpy as np\n",
    "import seaborn as sns\n",
    "import matplotlib.pyplot as plt\n",
    "\n",
    "# plt.rcParams[\"font.family\"] = 'NanumGothic'\n",
    "plt.rcParams[\"font.family\"] = 'AppleGothic'\n",
    "\n",
    "pd.options.display.max_rows = 10\n",
    "%matplotlib inline"
   ]
  },
  {
   "cell_type": "markdown",
   "metadata": {},
   "source": [
    "### 데이터 로드 "
   ]
  },
  {
   "cell_type": "code",
   "execution_count": 20,
   "metadata": {},
   "outputs": [
    {
     "data": {
      "text/html": [
       "<div>\n",
       "<style>\n",
       "    .dataframe thead tr:only-child th {\n",
       "        text-align: right;\n",
       "    }\n",
       "\n",
       "    .dataframe thead th {\n",
       "        text-align: left;\n",
       "    }\n",
       "\n",
       "    .dataframe tbody tr th {\n",
       "        vertical-align: top;\n",
       "    }\n",
       "</style>\n",
       "<table border=\"1\" class=\"dataframe\">\n",
       "  <thead>\n",
       "    <tr style=\"text-align: right;\">\n",
       "      <th></th>\n",
       "      <th>타임스탬프</th>\n",
       "      <th>닉네임</th>\n",
       "      <th>직업</th>\n",
       "      <th>성별</th>\n",
       "      <th>나이</th>\n",
       "      <th>복장</th>\n",
       "      <th>상의옷색상</th>\n",
       "      <th>하의옷색상</th>\n",
       "      <th>하의옷종류</th>\n",
       "      <th>신발색상</th>\n",
       "      <th>신발종류</th>\n",
       "      <th>사는곳</th>\n",
       "      <th>전공</th>\n",
       "      <th>실습환경OS</th>\n",
       "    </tr>\n",
       "  </thead>\n",
       "  <tbody>\n",
       "    <tr>\n",
       "      <th>0</th>\n",
       "      <td>2017. 10. 16 오전 5:57:16</td>\n",
       "      <td>닉1</td>\n",
       "      <td>대학생</td>\n",
       "      <td>남</td>\n",
       "      <td>20</td>\n",
       "      <td>평상복</td>\n",
       "      <td>흰색</td>\n",
       "      <td>흰색</td>\n",
       "      <td>청바지</td>\n",
       "      <td>흰색</td>\n",
       "      <td>구두</td>\n",
       "      <td>강남</td>\n",
       "      <td>컴공</td>\n",
       "      <td>맥OS</td>\n",
       "    </tr>\n",
       "    <tr>\n",
       "      <th>1</th>\n",
       "      <td>2017. 10. 16 오전 5:57:16</td>\n",
       "      <td>닉2</td>\n",
       "      <td>대학생</td>\n",
       "      <td>남</td>\n",
       "      <td>20</td>\n",
       "      <td>평상복</td>\n",
       "      <td>흰색</td>\n",
       "      <td>흰색</td>\n",
       "      <td>청바지</td>\n",
       "      <td>흰색</td>\n",
       "      <td>구두</td>\n",
       "      <td>강남</td>\n",
       "      <td>컴공</td>\n",
       "      <td>맥OS</td>\n",
       "    </tr>\n",
       "    <tr>\n",
       "      <th>2</th>\n",
       "      <td>2017. 10. 16 오전 5:57:16</td>\n",
       "      <td>닉3</td>\n",
       "      <td>대학생</td>\n",
       "      <td>남</td>\n",
       "      <td>20</td>\n",
       "      <td>평상복</td>\n",
       "      <td>흰색</td>\n",
       "      <td>노랑</td>\n",
       "      <td>청바지</td>\n",
       "      <td>흰색</td>\n",
       "      <td>구두</td>\n",
       "      <td>강남</td>\n",
       "      <td>컴공</td>\n",
       "      <td>맥OS</td>\n",
       "    </tr>\n",
       "    <tr>\n",
       "      <th>3</th>\n",
       "      <td>2017. 10. 16 오전 5:57:16</td>\n",
       "      <td>닉4</td>\n",
       "      <td>대학생</td>\n",
       "      <td>남</td>\n",
       "      <td>20</td>\n",
       "      <td>평상복</td>\n",
       "      <td>흰색</td>\n",
       "      <td>노랑</td>\n",
       "      <td>청바지</td>\n",
       "      <td>흰색</td>\n",
       "      <td>구두</td>\n",
       "      <td>강남</td>\n",
       "      <td>컴공</td>\n",
       "      <td>맥OS</td>\n",
       "    </tr>\n",
       "    <tr>\n",
       "      <th>4</th>\n",
       "      <td>2017. 10. 16 오전 5:57:16</td>\n",
       "      <td>닉5</td>\n",
       "      <td>대학생</td>\n",
       "      <td>남</td>\n",
       "      <td>20</td>\n",
       "      <td>평상복</td>\n",
       "      <td>흰색</td>\n",
       "      <td>흰색</td>\n",
       "      <td>청바지</td>\n",
       "      <td>흰색</td>\n",
       "      <td>구두</td>\n",
       "      <td>강남</td>\n",
       "      <td>컴공</td>\n",
       "      <td>맥OS</td>\n",
       "    </tr>\n",
       "  </tbody>\n",
       "</table>\n",
       "</div>"
      ],
      "text/plain": [
       "                     타임스탬프 닉네임   직업 성별  나이   복장 상의옷색상 하의옷색상 하의옷종류 신발색상 신발종류  \\\n",
       "0  2017. 10. 16 오전 5:57:16  닉1  대학생  남  20  평상복    흰색    흰색   청바지   흰색   구두   \n",
       "1  2017. 10. 16 오전 5:57:16  닉2  대학생  남  20  평상복    흰색    흰색   청바지   흰색   구두   \n",
       "2  2017. 10. 16 오전 5:57:16  닉3  대학생  남  20  평상복    흰색    노랑   청바지   흰색   구두   \n",
       "3  2017. 10. 16 오전 5:57:16  닉4  대학생  남  20  평상복    흰색    노랑   청바지   흰색   구두   \n",
       "4  2017. 10. 16 오전 5:57:16  닉5  대학생  남  20  평상복    흰색    흰색   청바지   흰색   구두   \n",
       "\n",
       "  사는곳  전공 실습환경OS  \n",
       "0  강남  컴공    맥OS  \n",
       "1  강남  컴공    맥OS  \n",
       "2  강남  컴공    맥OS  \n",
       "3  강남  컴공    맥OS  \n",
       "4  강남  컴공    맥OS  "
      ]
     },
     "execution_count": 20,
     "metadata": {},
     "output_type": "execute_result"
    }
   ],
   "source": [
    "dataset_path = './resource/class-survey-sample.csv'\n",
    "\n",
    "survey_ds = pd.read_csv(dataset_path)\n",
    "survey_ds.head()"
   ]
  },
  {
   "cell_type": "markdown",
   "metadata": {},
   "source": [
    "### 데이터 클렌징 "
   ]
  },
  {
   "cell_type": "code",
   "execution_count": 21,
   "metadata": {},
   "outputs": [],
   "source": [
    "### "
   ]
  },
  {
   "cell_type": "markdown",
   "metadata": {},
   "source": [
    "### 분포 탐색해보기  "
   ]
  },
  {
   "cell_type": "code",
   "execution_count": 19,
   "metadata": {},
   "outputs": [
    {
     "data": {
      "text/plain": [
       "array([<matplotlib.axes._subplots.AxesSubplot object at 0x10c9790f0>], dtype=object)"
      ]
     },
     "execution_count": 19,
     "metadata": {},
     "output_type": "execute_result"
    },
    {
     "data": {
      "image/png": "[encoded data removed]",
      "text/plain": [
       "<matplotlib.figure.Figure at 0x10c953be0>"
      ]
     },
     "metadata": {},
     "output_type": "display_data"
    }
   ],
   "source": [
    "survey_ds.groupby('직업')\\\n",
    "         .count()[['닉네임']]\\\n",
    "         .plot.pie(subplots=True, figsize=(6,6), autopct=\"%.2f%%\", legend=None)"
   ]
  },
  {
   "cell_type": "code",
   "execution_count": 22,
   "metadata": {},
   "outputs": [
    {
     "data": {
      "text/plain": [
       "array([<matplotlib.axes._subplots.AxesSubplot object at 0x10bb24940>], dtype=object)"
      ]
     },
     "execution_count": 22,
     "metadata": {},
     "output_type": "execute_result"
    },
    {
     "data": {
      "image/png": "[encoded data removed]",
      "text/plain": [
       "<matplotlib.figure.Figure at 0x10bcaf6d8>"
      ]
     },
     "metadata": {},
     "output_type": "display_data"
    }
   ],
   "source": [
    "survey_ds.groupby('성별')\\\n",
    "         .count()[['닉네임']]\\\n",
    "         .plot.pie(subplots=True, figsize=(6,6), autopct=\"%.2f%%\", legend=None)"
   ]
  },
  {
   "cell_type": "code",
   "execution_count": 23,
   "metadata": {},
   "outputs": [
    {
     "data": {
      "text/plain": [
       "array([<matplotlib.axes._subplots.AxesSubplot object at 0x10ac73470>], dtype=object)"
      ]
     },
     "execution_count": 23,
     "metadata": {},
     "output_type": "execute_result"
    },
    {
     "data": {
      "image/png": "[encoded data removed]",
      "text/plain": [
       "<matplotlib.figure.Figure at 0x10ac43278>"
      ]
     },
     "metadata": {},
     "output_type": "display_data"
    }
   ],
   "source": [
    "survey_ds.groupby('복장')\\\n",
    "         .count()[['닉네임']]\\\n",
    "         .plot.bar(subplots=True, figsize=(6,6), autopct=\"%.2f%%\", legend=None)"
   ]
  },
  {
   "cell_type": "code",
   "execution_count": 36,
   "metadata": {},
   "outputs": [],
   "source": [
    "color_ds = survey_ds.groupby(['상의옷색상','하의옷색상']).count()[['닉네임']].reset_index()\n",
    "\n",
    "color_ds.pivot('상의옷색상', '하의옷색상', '닉네임')\\\n",
    "        .fillna(0)\\\n",
    "        .plot.bar(figsize=(10,5))"
   ]
  },
  {
   "cell_type": "code",
   "execution_count": 56,
   "metadata": {},
   "outputs": [
    {
     "data": {
      "text/plain": [
       "<matplotlib.axes._subplots.AxesSubplot at 0x10f5f7f98>"
      ]
     },
     "execution_count": 56,
     "metadata": {},
     "output_type": "execute_result"
    },
    {
     "data": {
      "image/png": "[encoded data removed]",
      "text/plain": [
       "<matplotlib.figure.Figure at 0x10f3b0358>"
      ]
     },
     "metadata": {},
     "output_type": "display_data"
    }
   ],
   "source": [
    "plt.figure(figsize=(10,5))\n",
    "sns.countplot(x=\"상의옷색상\", hue='하의옷색상', data=survey_ds )"
   ]
  },
  {
   "cell_type": "code",
   "execution_count": 63,
   "metadata": {},
   "outputs": [],
   "source": [
    "### clustering "
   ]
  },
  {
   "cell_type": "code",
   "execution_count": 65,
   "metadata": {},
   "outputs": [],
   "source": [
    "from sklearn.preprocessing import LabelEncoder, OneHotEncoder\n",
    "from collections import defaultdict\n",
    "# label encoding \n",
    "le_enc_dict = defaultdict(LabelEncoder)\n",
    "le_survey_ds = survey_ds.apply(lambda x:le_enc_dict[x.name].fit_transform(x))"
   ]
  },
  {
   "cell_type": "code",
   "execution_count": 77,
   "metadata": {},
   "outputs": [
    {
     "data": {
      "text/html": [
       "<div>\n",
       "<style>\n",
       "    .dataframe thead tr:only-child th {\n",
       "        text-align: right;\n",
       "    }\n",
       "\n",
       "    .dataframe thead th {\n",
       "        text-align: left;\n",
       "    }\n",
       "\n",
       "    .dataframe tbody tr th {\n",
       "        vertical-align: top;\n",
       "    }\n",
       "</style>\n",
       "<table border=\"1\" class=\"dataframe\">\n",
       "  <thead>\n",
       "    <tr style=\"text-align: right;\">\n",
       "      <th></th>\n",
       "      <th>타임스탬프</th>\n",
       "      <th>닉네임</th>\n",
       "      <th>직업</th>\n",
       "      <th>성별</th>\n",
       "      <th>나이</th>\n",
       "      <th>복장</th>\n",
       "      <th>상의옷색상</th>\n",
       "      <th>하의옷색상</th>\n",
       "      <th>하의옷종류</th>\n",
       "      <th>신발색상</th>\n",
       "      <th>신발종류</th>\n",
       "      <th>사는곳</th>\n",
       "      <th>전공</th>\n",
       "      <th>실습환경OS</th>\n",
       "    </tr>\n",
       "  </thead>\n",
       "  <tbody>\n",
       "    <tr>\n",
       "      <th>0</th>\n",
       "      <td>0</td>\n",
       "      <td>0</td>\n",
       "      <td>0</td>\n",
       "      <td>0</td>\n",
       "      <td>0</td>\n",
       "      <td>2</td>\n",
       "      <td>5</td>\n",
       "      <td>4</td>\n",
       "      <td>2</td>\n",
       "      <td>3</td>\n",
       "      <td>0</td>\n",
       "      <td>0</td>\n",
       "      <td>3</td>\n",
       "      <td>0</td>\n",
       "    </tr>\n",
       "    <tr>\n",
       "      <th>1</th>\n",
       "      <td>0</td>\n",
       "      <td>11</td>\n",
       "      <td>0</td>\n",
       "      <td>0</td>\n",
       "      <td>0</td>\n",
       "      <td>2</td>\n",
       "      <td>5</td>\n",
       "      <td>4</td>\n",
       "      <td>2</td>\n",
       "      <td>3</td>\n",
       "      <td>0</td>\n",
       "      <td>0</td>\n",
       "      <td>3</td>\n",
       "      <td>0</td>\n",
       "    </tr>\n",
       "    <tr>\n",
       "      <th>2</th>\n",
       "      <td>0</td>\n",
       "      <td>22</td>\n",
       "      <td>0</td>\n",
       "      <td>0</td>\n",
       "      <td>0</td>\n",
       "      <td>2</td>\n",
       "      <td>5</td>\n",
       "      <td>1</td>\n",
       "      <td>2</td>\n",
       "      <td>3</td>\n",
       "      <td>0</td>\n",
       "      <td>0</td>\n",
       "      <td>3</td>\n",
       "      <td>0</td>\n",
       "    </tr>\n",
       "    <tr>\n",
       "      <th>3</th>\n",
       "      <td>0</td>\n",
       "      <td>33</td>\n",
       "      <td>0</td>\n",
       "      <td>0</td>\n",
       "      <td>0</td>\n",
       "      <td>2</td>\n",
       "      <td>5</td>\n",
       "      <td>1</td>\n",
       "      <td>2</td>\n",
       "      <td>3</td>\n",
       "      <td>0</td>\n",
       "      <td>0</td>\n",
       "      <td>3</td>\n",
       "      <td>0</td>\n",
       "    </tr>\n",
       "    <tr>\n",
       "      <th>4</th>\n",
       "      <td>0</td>\n",
       "      <td>38</td>\n",
       "      <td>0</td>\n",
       "      <td>0</td>\n",
       "      <td>0</td>\n",
       "      <td>2</td>\n",
       "      <td>5</td>\n",
       "      <td>4</td>\n",
       "      <td>2</td>\n",
       "      <td>3</td>\n",
       "      <td>0</td>\n",
       "      <td>0</td>\n",
       "      <td>3</td>\n",
       "      <td>0</td>\n",
       "    </tr>\n",
       "    <tr>\n",
       "      <th>...</th>\n",
       "      <td>...</td>\n",
       "      <td>...</td>\n",
       "      <td>...</td>\n",
       "      <td>...</td>\n",
       "      <td>...</td>\n",
       "      <td>...</td>\n",
       "      <td>...</td>\n",
       "      <td>...</td>\n",
       "      <td>...</td>\n",
       "      <td>...</td>\n",
       "      <td>...</td>\n",
       "      <td>...</td>\n",
       "      <td>...</td>\n",
       "      <td>...</td>\n",
       "    </tr>\n",
       "    <tr>\n",
       "      <th>38</th>\n",
       "      <td>0</td>\n",
       "      <td>32</td>\n",
       "      <td>4</td>\n",
       "      <td>0</td>\n",
       "      <td>4</td>\n",
       "      <td>0</td>\n",
       "      <td>2</td>\n",
       "      <td>0</td>\n",
       "      <td>2</td>\n",
       "      <td>0</td>\n",
       "      <td>3</td>\n",
       "      <td>6</td>\n",
       "      <td>5</td>\n",
       "      <td>1</td>\n",
       "    </tr>\n",
       "    <tr>\n",
       "      <th>39</th>\n",
       "      <td>0</td>\n",
       "      <td>34</td>\n",
       "      <td>4</td>\n",
       "      <td>0</td>\n",
       "      <td>4</td>\n",
       "      <td>0</td>\n",
       "      <td>2</td>\n",
       "      <td>0</td>\n",
       "      <td>2</td>\n",
       "      <td>2</td>\n",
       "      <td>3</td>\n",
       "      <td>5</td>\n",
       "      <td>1</td>\n",
       "      <td>1</td>\n",
       "    </tr>\n",
       "    <tr>\n",
       "      <th>40</th>\n",
       "      <td>0</td>\n",
       "      <td>35</td>\n",
       "      <td>4</td>\n",
       "      <td>0</td>\n",
       "      <td>4</td>\n",
       "      <td>0</td>\n",
       "      <td>2</td>\n",
       "      <td>0</td>\n",
       "      <td>2</td>\n",
       "      <td>2</td>\n",
       "      <td>3</td>\n",
       "      <td>5</td>\n",
       "      <td>1</td>\n",
       "      <td>1</td>\n",
       "    </tr>\n",
       "    <tr>\n",
       "      <th>41</th>\n",
       "      <td>0</td>\n",
       "      <td>36</td>\n",
       "      <td>4</td>\n",
       "      <td>0</td>\n",
       "      <td>4</td>\n",
       "      <td>0</td>\n",
       "      <td>2</td>\n",
       "      <td>0</td>\n",
       "      <td>2</td>\n",
       "      <td>0</td>\n",
       "      <td>3</td>\n",
       "      <td>7</td>\n",
       "      <td>1</td>\n",
       "      <td>1</td>\n",
       "    </tr>\n",
       "    <tr>\n",
       "      <th>42</th>\n",
       "      <td>0</td>\n",
       "      <td>37</td>\n",
       "      <td>4</td>\n",
       "      <td>0</td>\n",
       "      <td>4</td>\n",
       "      <td>0</td>\n",
       "      <td>2</td>\n",
       "      <td>0</td>\n",
       "      <td>2</td>\n",
       "      <td>0</td>\n",
       "      <td>0</td>\n",
       "      <td>7</td>\n",
       "      <td>1</td>\n",
       "      <td>1</td>\n",
       "    </tr>\n",
       "  </tbody>\n",
       "</table>\n",
       "<p>43 rows × 14 columns</p>\n",
       "</div>"
      ],
      "text/plain": [
       "    타임스탬프  닉네임  직업  성별  나이  복장  상의옷색상  하의옷색상  하의옷종류  신발색상  신발종류  사는곳  전공  \\\n",
       "0       0    0   0   0   0   2      5      4      2     3     0    0   3   \n",
       "1       0   11   0   0   0   2      5      4      2     3     0    0   3   \n",
       "2       0   22   0   0   0   2      5      1      2     3     0    0   3   \n",
       "3       0   33   0   0   0   2      5      1      2     3     0    0   3   \n",
       "4       0   38   0   0   0   2      5      4      2     3     0    0   3   \n",
       "..    ...  ...  ..  ..  ..  ..    ...    ...    ...   ...   ...  ...  ..   \n",
       "38      0   32   4   0   4   0      2      0      2     0     3    6   5   \n",
       "39      0   34   4   0   4   0      2      0      2     2     3    5   1   \n",
       "40      0   35   4   0   4   0      2      0      2     2     3    5   1   \n",
       "41      0   36   4   0   4   0      2      0      2     0     3    7   1   \n",
       "42      0   37   4   0   4   0      2      0      2     0     0    7   1   \n",
       "\n",
       "    실습환경OS  \n",
       "0        0  \n",
       "1        0  \n",
       "2        0  \n",
       "3        0  \n",
       "4        0  \n",
       "..     ...  \n",
       "38       1  \n",
       "39       1  \n",
       "40       1  \n",
       "41       1  \n",
       "42       1  \n",
       "\n",
       "[43 rows x 14 columns]"
      ]
     },
     "execution_count": 77,
     "metadata": {},
     "output_type": "execute_result"
    }
   ],
   "source": [
    "le_survey_ds"
   ]
  },
  {
   "cell_type": "code",
   "execution_count": 78,
   "metadata": {},
   "outputs": [],
   "source": [
    "le_survey_ds.drop(['닉네임','타임스탬프'], axis=1, inplace=True)"
   ]
  },
  {
   "cell_type": "code",
   "execution_count": 79,
   "metadata": {},
   "outputs": [
    {
     "data": {
      "text/plain": [
       "<seaborn.matrix.ClusterGrid at 0x10feb9860>"
      ]
     },
     "execution_count": 79,
     "metadata": {},
     "output_type": "execute_result"
    },
    {
     "data": {
      "image/png": "[encoded data removed]",
      "text/plain": [
       "<matplotlib.figure.Figure at 0x10f8c3828>"
      ]
     },
     "metadata": {},
     "output_type": "display_data"
    }
   ],
   "source": [
    "sns.clustermap(le_survey_ds, metric='jaccard')"
   ]
  },
  {
   "cell_type": "code",
   "execution_count": 80,
   "metadata": {},
   "outputs": [],
   "source": [
    "### Stop & Think해보기 "
   ]
  },
  {
   "cell_type": "code",
   "execution_count": null,
   "metadata": {},
   "outputs": [],
   "source": []
  }
 ],
 "metadata": {
  "kernelspec": {
   "display_name": "Python 3.6",
   "language": "python",
   "name": "python3.6"
  },
  "language_info": {
   "codemirror_mode": {
    "name": "ipython",
    "version": 3
   },
   "file_extension": ".py",
   "mimetype": "text/x-python",
   "name": "python",
   "nbconvert_exporter": "python",
   "pygments_lexer": "ipython3",
   "version": "3.6.3"
  }
 },
 "nbformat": 4,
 "nbformat_minor": 2
}
