{
 "cells": [
  {
   "cell_type": "markdown",
   "metadata": {},
   "source": [
    "### 개인 Survey 결과를 토대로 유사한 클래스메이트 끼리 군집화 한다. \n",
    "* 사용 Feature : 패션을 나태내는 Feature만을 사용한다. \n",
    " * 상의옷색상 / 하의옷색상 / 하의옷종류 / 신발색상 / 신발종류\n",
    "* Hierarchical Clustering으로 한다. \n",
    "---"
   ]
  },
  {
   "cell_type": "code",
   "execution_count": 8,
   "metadata": {},
   "outputs": [],
   "source": [
    "import pandas as pd\n",
    "import numpy as np\n",
    "import seaborn as sns\n",
    "\n",
    "pd.options.display.max_rows = 10\n",
    "%matplotlib inline"
   ]
  },
  {
   "cell_type": "markdown",
   "metadata": {},
   "source": [
    "### 데이터 로드 "
   ]
  },
  {
   "cell_type": "code",
   "execution_count": 9,
   "metadata": {},
   "outputs": [
    {
     "data": {
      "text/html": [
       "<div>\n",
       "<style>\n",
       "    .dataframe thead tr:only-child th {\n",
       "        text-align: right;\n",
       "    }\n",
       "\n",
       "    .dataframe thead th {\n",
       "        text-align: left;\n",
       "    }\n",
       "\n",
       "    .dataframe tbody tr th {\n",
       "        vertical-align: top;\n",
       "    }\n",
       "</style>\n",
       "<table border=\"1\" class=\"dataframe\">\n",
       "  <thead>\n",
       "    <tr style=\"text-align: right;\">\n",
       "      <th></th>\n",
       "      <th>타임스탬프</th>\n",
       "      <th>닉네임</th>\n",
       "      <th>직업</th>\n",
       "      <th>성별</th>\n",
       "      <th>나이</th>\n",
       "      <th>복장</th>\n",
       "      <th>상의옷색상</th>\n",
       "      <th>하의옷색상</th>\n",
       "      <th>하의옷종류</th>\n",
       "      <th>신발색상</th>\n",
       "      <th>신발종류</th>\n",
       "      <th>사는곳</th>\n",
       "      <th>전공</th>\n",
       "      <th>실습환경OS</th>\n",
       "    </tr>\n",
       "  </thead>\n",
       "  <tbody>\n",
       "    <tr>\n",
       "      <th>0</th>\n",
       "      <td>2017. 10. 16 오전 5:57:16</td>\n",
       "      <td>닉1</td>\n",
       "      <td>대학생</td>\n",
       "      <td>남</td>\n",
       "      <td>20</td>\n",
       "      <td>평상복</td>\n",
       "      <td>흰색</td>\n",
       "      <td>흰색</td>\n",
       "      <td>청바지</td>\n",
       "      <td>흰색</td>\n",
       "      <td>구두</td>\n",
       "      <td>강남</td>\n",
       "      <td>컴공</td>\n",
       "      <td>맥OS</td>\n",
       "    </tr>\n",
       "    <tr>\n",
       "      <th>1</th>\n",
       "      <td>2017. 10. 16 오전 5:57:16</td>\n",
       "      <td>닉2</td>\n",
       "      <td>대학생</td>\n",
       "      <td>남</td>\n",
       "      <td>20</td>\n",
       "      <td>평상복</td>\n",
       "      <td>흰색</td>\n",
       "      <td>흰색</td>\n",
       "      <td>청바지</td>\n",
       "      <td>흰색</td>\n",
       "      <td>구두</td>\n",
       "      <td>강남</td>\n",
       "      <td>컴공</td>\n",
       "      <td>맥OS</td>\n",
       "    </tr>\n",
       "    <tr>\n",
       "      <th>2</th>\n",
       "      <td>2017. 10. 16 오전 5:57:16</td>\n",
       "      <td>닉3</td>\n",
       "      <td>대학생</td>\n",
       "      <td>남</td>\n",
       "      <td>20</td>\n",
       "      <td>평상복</td>\n",
       "      <td>흰색</td>\n",
       "      <td>노랑</td>\n",
       "      <td>청바지</td>\n",
       "      <td>흰색</td>\n",
       "      <td>구두</td>\n",
       "      <td>강남</td>\n",
       "      <td>컴공</td>\n",
       "      <td>맥OS</td>\n",
       "    </tr>\n",
       "    <tr>\n",
       "      <th>3</th>\n",
       "      <td>2017. 10. 16 오전 5:57:16</td>\n",
       "      <td>닉4</td>\n",
       "      <td>대학생</td>\n",
       "      <td>남</td>\n",
       "      <td>20</td>\n",
       "      <td>평상복</td>\n",
       "      <td>흰색</td>\n",
       "      <td>노랑</td>\n",
       "      <td>청바지</td>\n",
       "      <td>흰색</td>\n",
       "      <td>구두</td>\n",
       "      <td>강남</td>\n",
       "      <td>컴공</td>\n",
       "      <td>맥OS</td>\n",
       "    </tr>\n",
       "    <tr>\n",
       "      <th>4</th>\n",
       "      <td>2017. 10. 16 오전 5:57:16</td>\n",
       "      <td>닉5</td>\n",
       "      <td>대학생</td>\n",
       "      <td>남</td>\n",
       "      <td>20</td>\n",
       "      <td>평상복</td>\n",
       "      <td>흰색</td>\n",
       "      <td>흰색</td>\n",
       "      <td>청바지</td>\n",
       "      <td>흰색</td>\n",
       "      <td>구두</td>\n",
       "      <td>강남</td>\n",
       "      <td>컴공</td>\n",
       "      <td>맥OS</td>\n",
       "    </tr>\n",
       "  </tbody>\n",
       "</table>\n",
       "</div>"
      ],
      "text/plain": [
       "                     타임스탬프 닉네임   직업 성별  나이   복장 상의옷색상 하의옷색상 하의옷종류 신발색상 신발종류  \\\n",
       "0  2017. 10. 16 오전 5:57:16  닉1  대학생  남  20  평상복    흰색    흰색   청바지   흰색   구두   \n",
       "1  2017. 10. 16 오전 5:57:16  닉2  대학생  남  20  평상복    흰색    흰색   청바지   흰색   구두   \n",
       "2  2017. 10. 16 오전 5:57:16  닉3  대학생  남  20  평상복    흰색    노랑   청바지   흰색   구두   \n",
       "3  2017. 10. 16 오전 5:57:16  닉4  대학생  남  20  평상복    흰색    노랑   청바지   흰색   구두   \n",
       "4  2017. 10. 16 오전 5:57:16  닉5  대학생  남  20  평상복    흰색    흰색   청바지   흰색   구두   \n",
       "\n",
       "  사는곳  전공 실습환경OS  \n",
       "0  강남  컴공    맥OS  \n",
       "1  강남  컴공    맥OS  \n",
       "2  강남  컴공    맥OS  \n",
       "3  강남  컴공    맥OS  \n",
       "4  강남  컴공    맥OS  "
      ]
     },
     "execution_count": 9,
     "metadata": {},
     "output_type": "execute_result"
    }
   ],
   "source": [
    "dataset_path = './resource/class-survey-sample.csv'\n",
    "\n",
    "survey_ds = pd.read_csv(dataset_path)\n",
    "survey_ds.head()"
   ]
  },
  {
   "cell_type": "markdown",
   "metadata": {},
   "source": [
    "### 군집화 하기 \n",
    "* Feature 선택\n",
    "* Label Encoding : string to number "
   ]
  },
  {
   "cell_type": "code",
   "execution_count": 10,
   "metadata": {},
   "outputs": [],
   "source": [
    "feature_columns = ['닉네임', '복장','상의옷색상','하의옷색상','하의옷종류','신발색상','신발종류']\n",
    "feature_ds = survey_ds[feature_columns]"
   ]
  },
  {
   "cell_type": "code",
   "execution_count": 11,
   "metadata": {},
   "outputs": [],
   "source": [
    "feature_ds.set_index('닉네임', inplace=True)"
   ]
  },
  {
   "cell_type": "code",
   "execution_count": 12,
   "metadata": {},
   "outputs": [],
   "source": [
    "from sklearn.preprocessing import LabelEncoder, OneHotEncoder\n",
    "from collections import defaultdict"
   ]
  },
  {
   "cell_type": "code",
   "execution_count": 14,
   "metadata": {},
   "outputs": [],
   "source": [
    "# label encoding \n",
    "le_enc_dict = defaultdict(LabelEncoder)\n",
    "le_feature_ds = feature_ds.apply(lambda x:le_enc_dict[x.name].fit_transform(x))"
   ]
  },
  {
   "cell_type": "code",
   "execution_count": 109,
   "metadata": {},
   "outputs": [
    {
     "data": {
      "text/html": [
       "<div>\n",
       "<style>\n",
       "    .dataframe thead tr:only-child th {\n",
       "        text-align: right;\n",
       "    }\n",
       "\n",
       "    .dataframe thead th {\n",
       "        text-align: left;\n",
       "    }\n",
       "\n",
       "    .dataframe tbody tr th {\n",
       "        vertical-align: top;\n",
       "    }\n",
       "</style>\n",
       "<table border=\"1\" class=\"dataframe\">\n",
       "  <thead>\n",
       "    <tr style=\"text-align: right;\">\n",
       "      <th></th>\n",
       "      <th>복장</th>\n",
       "      <th>상의옷색상</th>\n",
       "      <th>하의옷색상</th>\n",
       "      <th>하의옷종류</th>\n",
       "      <th>신발색상</th>\n",
       "      <th>신발종류</th>\n",
       "    </tr>\n",
       "    <tr>\n",
       "      <th>닉네임</th>\n",
       "      <th></th>\n",
       "      <th></th>\n",
       "      <th></th>\n",
       "      <th></th>\n",
       "      <th></th>\n",
       "      <th></th>\n",
       "    </tr>\n",
       "  </thead>\n",
       "  <tbody>\n",
       "    <tr>\n",
       "      <th>닉1</th>\n",
       "      <td>2</td>\n",
       "      <td>5</td>\n",
       "      <td>4</td>\n",
       "      <td>2</td>\n",
       "      <td>3</td>\n",
       "      <td>0</td>\n",
       "    </tr>\n",
       "    <tr>\n",
       "      <th>닉2</th>\n",
       "      <td>2</td>\n",
       "      <td>5</td>\n",
       "      <td>4</td>\n",
       "      <td>2</td>\n",
       "      <td>3</td>\n",
       "      <td>0</td>\n",
       "    </tr>\n",
       "    <tr>\n",
       "      <th>닉3</th>\n",
       "      <td>2</td>\n",
       "      <td>5</td>\n",
       "      <td>1</td>\n",
       "      <td>2</td>\n",
       "      <td>3</td>\n",
       "      <td>0</td>\n",
       "    </tr>\n",
       "    <tr>\n",
       "      <th>닉4</th>\n",
       "      <td>2</td>\n",
       "      <td>5</td>\n",
       "      <td>1</td>\n",
       "      <td>2</td>\n",
       "      <td>3</td>\n",
       "      <td>0</td>\n",
       "    </tr>\n",
       "    <tr>\n",
       "      <th>닉5</th>\n",
       "      <td>2</td>\n",
       "      <td>5</td>\n",
       "      <td>4</td>\n",
       "      <td>2</td>\n",
       "      <td>3</td>\n",
       "      <td>0</td>\n",
       "    </tr>\n",
       "  </tbody>\n",
       "</table>\n",
       "</div>"
      ],
      "text/plain": [
       "     복장  상의옷색상  하의옷색상  하의옷종류  신발색상  신발종류\n",
       "닉네임                                     \n",
       "닉1    2      5      4      2     3     0\n",
       "닉2    2      5      4      2     3     0\n",
       "닉3    2      5      1      2     3     0\n",
       "닉4    2      5      1      2     3     0\n",
       "닉5    2      5      4      2     3     0"
      ]
     },
     "execution_count": 109,
     "metadata": {},
     "output_type": "execute_result"
    }
   ],
   "source": [
    "le_feature_ds.head()"
   ]
  },
  {
   "cell_type": "code",
   "execution_count": 123,
   "metadata": {},
   "outputs": [
    {
     "data": {
      "image/png": "[encoded data removed]",
      "text/plain": [
       "<matplotlib.figure.Figure at 0x11806dba8>"
      ]
     },
     "metadata": {},
     "output_type": "display_data"
    }
   ],
   "source": [
    "sns.set(style=\"whitegrid\", rc={'font.family':'AppleGothic'}, font_scale=1)\n",
    "g = sns.clustermap(le_feature_ds, figsize=(8,14), metric='jaccard', linewidths=.5)"
   ]
  },
  {
   "cell_type": "code",
   "execution_count": 119,
   "metadata": {},
   "outputs": [
    {
     "data": {
      "text/plain": [
       "[]"
      ]
     },
     "execution_count": 119,
     "metadata": {},
     "output_type": "execute_result"
    }
   ],
   "source": []
  },
  {
   "cell_type": "code",
   "execution_count": null,
   "metadata": {},
   "outputs": [],
   "source": []
  }
 ],
 "metadata": {
  "kernelspec": {
   "display_name": "Python 3.6",
   "language": "python",
   "name": "python3.6"
  },
  "language_info": {
   "codemirror_mode": {
    "name": "ipython",
    "version": 3
   },
   "file_extension": ".py",
   "mimetype": "text/x-python",
   "name": "python",
   "nbconvert_exporter": "python",
   "pygments_lexer": "ipython3",
   "version": "3.6.3"
  }
 },
 "nbformat": 4,
 "nbformat_minor": 2
}
